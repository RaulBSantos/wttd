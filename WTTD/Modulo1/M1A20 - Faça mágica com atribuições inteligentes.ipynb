{
 "cells": [
  {
   "cell_type": "markdown",
   "metadata": {},
   "source": [
    "## Brincando, testes:"
   ]
  },
  {
   "cell_type": "code",
   "execution_count": 45,
   "metadata": {},
   "outputs": [],
   "source": [
    "# Um '=' por linha apenas? -> Posso atribuir mais que um, com mesmo valor\n",
    "a = b = 2"
   ]
  },
  {
   "cell_type": "code",
   "execution_count": 56,
   "metadata": {
    "scrolled": true
   },
   "outputs": [
    {
     "ename": "SyntaxError",
     "evalue": "can't assign to literal (<ipython-input-56-bc482d82fec2>, line 2)",
     "output_type": "error",
     "traceback": [
      "\u001b[0;36m  File \u001b[0;32m\"<ipython-input-56-bc482d82fec2>\"\u001b[0;36m, line \u001b[0;32m2\u001b[0m\n\u001b[0;31m    [a] = [2] = [3]\u001b[0m\n\u001b[0m         ^\u001b[0m\n\u001b[0;31mSyntaxError\u001b[0m\u001b[0;31m:\u001b[0m can't assign to literal\n"
     ]
    }
   ],
   "source": [
    "# Um '=' por linha apenas? -> O valor deve ser sempre o mesmo? It's sure!!!\n",
    "[a] = [2] = [3]\n"
   ]
  },
  {
   "cell_type": "markdown",
   "metadata": {},
   "source": [
    "#### Brincando com set, ele não é ordenado, a bagunça abaixo é meramente ilustrativa e não aplicável no mundo real.."
   ]
  },
  {
   "cell_type": "markdown",
   "metadata": {},
   "source": [
    "set?\n",
    "\n",
    "```\n",
    "\n",
    "Init signature: set(self, /, *args, **kwargs)\n",
    "Docstring:     \n",
    "set() -> new empty set object\n",
    "set(iterable) -> new set object\n",
    "\n",
    "Build an unordered collection of unique elements.\n",
    "Type:           type\n",
    "Subclasses: \n",
    "\n",
    "```"
   ]
  },
  {
   "cell_type": "code",
   "execution_count": 10,
   "metadata": {},
   "outputs": [
    {
     "name": "stdout",
     "output_type": "stream",
     "text": [
      "24.1 Campinas 24.2 Raul\n",
      "Raul Campinas 24.1 24.2\n"
     ]
    }
   ],
   "source": [
    "# Apesar de funcionar este unpacking, não consigo encontrar alguma aplicação\n",
    "# que não seja adotar algo como pegar 'aleatóriamente' um valor\n",
    "# apesar de ele manter a msm (des)ordem após n execuções\n",
    "\n",
    "s = {'Raul', 'Campinas', 24.1, 24.2}\n",
    "\n",
    "nome_talvez, cidade_talvez, lat_talvez, lon_talvez = s\n",
    "\n",
    "print(nome_talvez, cidade_talvez, lat_talvez, lon_talvez)\n",
    "\n",
    "# s = None # Experimentar limpar para ver se ele mantém a desordem\n",
    "\n",
    "outro_set = {'Raul', 'Campinas', 24.1, 24.2}\n",
    "# 'Supondo' que a ordem seja a mesma após execução anterior:\n",
    "lat_acho, cidade_acho, lon_acho, nome_acho = outro_set\n",
    "print(nome_acho, cidade_acho, lat_acho, lon_acho)"
   ]
  },
  {
   "cell_type": "code",
   "execution_count": 11,
   "metadata": {},
   "outputs": [
    {
     "name": "stdout",
     "output_type": "stream",
     "text": [
      "24.1 Campinas 24.2 Raul\n",
      "Raul Campinas 24.1 24.2\n"
     ]
    }
   ],
   "source": [
    "# Apesar de funcionar este unpacking, não consigo encontrar alguma aplicação\n",
    "# que não seja adotar algo como pegar 'aleatóriamente' um valor\n",
    "# apesar de ele manter a msm (des)ordem após n execuções\n",
    "\n",
    "s = {'Raul', 'Campinas', 24.1, 24.2}\n",
    "\n",
    "nome_talvez, cidade_talvez, lat_talvez, lon_talvez = s\n",
    "\n",
    "print(nome_talvez, cidade_talvez, lat_talvez, lon_talvez)\n",
    "\n",
    "s = None # Limpando para ver se ele mantém a desordem. Acho que manterá!\n",
    "\n",
    "outro_set = {'Raul', 'Campinas', 24.1, 24.2}\n",
    "# 'Supondo' que a ordem seja a mesma após execução anterior:\n",
    "lat_acho, cidade_acho, lon_acho, nome_acho = outro_set\n",
    "print(nome_acho, cidade_acho, lat_acho, lon_acho)"
   ]
  },
  {
   "cell_type": "code",
   "execution_count": 21,
   "metadata": {},
   "outputs": [
    {
     "name": "stdout",
     "output_type": "stream",
     "text": [
      "230584300921372696\n",
      "-7788912973392384007\n",
      "461168601842737176\n",
      "-6632114958536494370\n",
      "Hash 2 é maior que o hash 1?  False\n",
      "Hash 3 é maior que o hash 2?  True\n",
      "Hash 4 é maior que o hash 3?  False\n",
      "Hash 4 é maior que o hash 1?  False\n"
     ]
    }
   ],
   "source": [
    "# Ideia de como talvez esteja mantendo a mesma: -> REFUTADA!! Nada a ver com o valor do hash\n",
    "hash_1 = hash(24.1) #Primeiro\n",
    "hash_2 = hash('Campinas') #Segundo\n",
    "hash_3 = hash(24.2) #Terceiro\n",
    "hash_4 = hash('Raul') #Quarto\n",
    "\n",
    "\n",
    "print(hash_1) #Primeiro\n",
    "print(hash_2) #Segundo\n",
    "print(hash_3) #Terceiro\n",
    "print(hash_4) #Quarto\n",
    "\n",
    "\n",
    "print('Hash 2 é maior que o hash 1? ', hash_2 > hash_1)\n",
    "print('Hash 3 é maior que o hash 2? ', hash_3 > hash_2)\n",
    "print('Hash 4 é maior que o hash 3? ', hash_4 > hash_3)\n",
    "print('Hash 4 é maior que o hash 1? ', hash_4 > hash_1)\n"
   ]
  },
  {
   "cell_type": "code",
   "execution_count": 22,
   "metadata": {},
   "outputs": [
    {
     "name": "stdout",
     "output_type": "stream",
     "text": [
      "24.1\n",
      "Campinas\n",
      "24.2\n",
      "Raul\n"
     ]
    }
   ],
   "source": [
    "s = {'Raul', 'Campinas', 24.1, 24.2}\n",
    "\n",
    "for e in s:\n",
    "    print(e)"
   ]
  },
  {
   "cell_type": "code",
   "execution_count": 33,
   "metadata": {},
   "outputs": [
    {
     "ename": "TypeError",
     "evalue": "cannot unpack non-iterable float object",
     "output_type": "error",
     "traceback": [
      "\u001b[0;31m---------------------------------------------------------------------------\u001b[0m",
      "\u001b[0;31mTypeError\u001b[0m                                 Traceback (most recent call last)",
      "\u001b[0;32m<ipython-input-33-b1bcae4d970d>\u001b[0m in \u001b[0;36m<module>\u001b[0;34m\u001b[0m\n\u001b[1;32m      3\u001b[0m \u001b[0ms\u001b[0m \u001b[0;34m=\u001b[0m \u001b[0;34m{\u001b[0m\u001b[0;34m'Raul'\u001b[0m\u001b[0;34m,\u001b[0m \u001b[0;34m'Campinas'\u001b[0m\u001b[0;34m,\u001b[0m \u001b[0;36m24.1\u001b[0m\u001b[0;34m,\u001b[0m \u001b[0;36m24.2\u001b[0m\u001b[0;34m}\u001b[0m\u001b[0;34m\u001b[0m\u001b[0;34m\u001b[0m\u001b[0m\n\u001b[1;32m      4\u001b[0m \u001b[0;34m\u001b[0m\u001b[0m\n\u001b[0;32m----> 5\u001b[0;31m \u001b[0;32mfor\u001b[0m \u001b[0ma\u001b[0m\u001b[0;34m,\u001b[0m \u001b[0mb\u001b[0m\u001b[0;34m,\u001b[0m \u001b[0mc\u001b[0m\u001b[0;34m,\u001b[0m \u001b[0md\u001b[0m \u001b[0;32min\u001b[0m \u001b[0ms\u001b[0m\u001b[0;34m:\u001b[0m\u001b[0;34m\u001b[0m\u001b[0;34m\u001b[0m\u001b[0m\n\u001b[0m\u001b[1;32m      6\u001b[0m     \u001b[0mprint\u001b[0m\u001b[0;34m(\u001b[0m\u001b[0ma\u001b[0m\u001b[0;34m,\u001b[0m \u001b[0mb\u001b[0m\u001b[0;34m,\u001b[0m \u001b[0mc\u001b[0m\u001b[0;34m,\u001b[0m \u001b[0md\u001b[0m\u001b[0;34m)\u001b[0m\u001b[0;34m\u001b[0m\u001b[0;34m\u001b[0m\u001b[0m\n",
      "\u001b[0;31mTypeError\u001b[0m: cannot unpack non-iterable float object"
     ]
    }
   ],
   "source": [
    "# Um erro engraçado -> Na verdade todos os elementos da estrutra terão que ser iteráveis. Como no exemplo, foi uma \n",
    "# tupla de tuplas, funcionou.\n",
    "s = {'Raul', 'Campinas', 24.1, 24.2}\n",
    "\n",
    "for a, b, c, d in s:\n",
    "    print(a, b, c, d)"
   ]
  },
  {
   "cell_type": "code",
   "execution_count": 31,
   "metadata": {
    "scrolled": false
   },
   "outputs": [
    {
     "name": "stdout",
     "output_type": "stream",
     "text": [
      "H ['e', 'n', 'r', 'i', 'q', 'u', 'e']\n",
      "N ['i', 't', 'e', 'r', 'ó', 'i']\n"
     ]
    },
    {
     "ename": "TypeError",
     "evalue": "cannot unpack non-iterable float object",
     "output_type": "error",
     "traceback": [
      "\u001b[0;31m---------------------------------------------------------------------------\u001b[0m",
      "\u001b[0;31mTypeError\u001b[0m                                 Traceback (most recent call last)",
      "\u001b[0;32m<ipython-input-31-6fe2c05c672f>\u001b[0m in \u001b[0;36m<module>\u001b[0;34m\u001b[0m\n\u001b[1;32m      2\u001b[0m \u001b[0mtable\u001b[0m \u001b[0;34m=\u001b[0m \u001b[0;34m(\u001b[0m\u001b[0;34m'Henrique'\u001b[0m\u001b[0;34m,\u001b[0m \u001b[0;34m'Niterói'\u001b[0m\u001b[0;34m,\u001b[0m \u001b[0;36m22.9\u001b[0m\u001b[0;34m,\u001b[0m \u001b[0;36m43.1\u001b[0m\u001b[0;34m)\u001b[0m\u001b[0;34m\u001b[0m\u001b[0;34m\u001b[0m\u001b[0m\n\u001b[1;32m      3\u001b[0m \u001b[0;34m\u001b[0m\u001b[0m\n\u001b[0;32m----> 4\u001b[0;31m \u001b[0;32mfor\u001b[0m \u001b[0mnome\u001b[0m\u001b[0;34m,\u001b[0m \u001b[0;34m*\u001b[0m\u001b[0m_\u001b[0m \u001b[0;32min\u001b[0m \u001b[0mtable\u001b[0m\u001b[0;34m:\u001b[0m\u001b[0;34m\u001b[0m\u001b[0;34m\u001b[0m\u001b[0m\n\u001b[0m\u001b[1;32m      5\u001b[0m     \u001b[0mprint\u001b[0m\u001b[0;34m(\u001b[0m\u001b[0mnome\u001b[0m\u001b[0;34m,\u001b[0m \u001b[0m_\u001b[0m\u001b[0;34m)\u001b[0m\u001b[0;34m\u001b[0m\u001b[0;34m\u001b[0m\u001b[0m\n",
      "\u001b[0;31mTypeError\u001b[0m: cannot unpack non-iterable float object"
     ]
    }
   ],
   "source": [
    "# Será que com a outra estrutra irá ter o mesmo?\n",
    "table = ('Henrique', 'Niterói', 22.9, 43.1)\n",
    "\n",
    "for nome, *_ in table:\n",
    "    print(nome, _)"
   ]
  },
  {
   "cell_type": "code",
   "execution_count": 37,
   "metadata": {},
   "outputs": [
    {
     "name": "stdout",
     "output_type": "stream",
     "text": [
      "Raul Campinas 22.9 43.1\n",
      "Raul ['Campinas', 22.9, 43.1]\n",
      "R ['a', 'u', 'l']\n",
      "C ['a', 'm', 'p', 'i', 'n', 'a', 's']\n"
     ]
    },
    {
     "ename": "TypeError",
     "evalue": "cannot unpack non-iterable float object",
     "output_type": "error",
     "traceback": [
      "\u001b[0;31m---------------------------------------------------------------------------\u001b[0m",
      "\u001b[0;31mTypeError\u001b[0m                                 Traceback (most recent call last)",
      "\u001b[0;32m<ipython-input-37-8c6502330518>\u001b[0m in \u001b[0;36m<module>\u001b[0;34m\u001b[0m\n\u001b[1;32m      9\u001b[0m \u001b[0;34m\u001b[0m\u001b[0m\n\u001b[1;32m     10\u001b[0m \u001b[0;31m# Gera erro\u001b[0m\u001b[0;34m\u001b[0m\u001b[0;34m\u001b[0m\u001b[0;34m\u001b[0m\u001b[0m\n\u001b[0;32m---> 11\u001b[0;31m \u001b[0;32mfor\u001b[0m \u001b[0mname\u001b[0m\u001b[0;34m,\u001b[0m \u001b[0;34m*\u001b[0m\u001b[0m_\u001b[0m \u001b[0;32min\u001b[0m \u001b[0mrow\u001b[0m\u001b[0;34m:\u001b[0m\u001b[0;34m\u001b[0m\u001b[0;34m\u001b[0m\u001b[0m\n\u001b[0m\u001b[1;32m     12\u001b[0m     \u001b[0mprint\u001b[0m\u001b[0;34m(\u001b[0m\u001b[0mname\u001b[0m\u001b[0;34m,\u001b[0m \u001b[0m_\u001b[0m\u001b[0;34m)\u001b[0m\u001b[0;34m\u001b[0m\u001b[0;34m\u001b[0m\u001b[0m\n",
      "\u001b[0;31mTypeError\u001b[0m: cannot unpack non-iterable float object"
     ]
    }
   ],
   "source": [
    "### Isto mostra que atribuição 'pura' é diferente do caso de fazê-lo no for\n",
    "row = ('Raul', 'Campinas', 22.9, 43.1)\n",
    "\n",
    "name, city, lat, lon = row\n",
    "print(name, city, lat, lon)\n",
    "\n",
    "name, *_ = row\n",
    "print(name, _)\n",
    "\n",
    "# Gera erro\n",
    "for name, *_ in row:\n",
    "    print(name, _)\n"
   ]
  },
  {
   "cell_type": "code",
   "execution_count": 39,
   "metadata": {},
   "outputs": [
    {
     "name": "stdout",
     "output_type": "stream",
     "text": [
      "Raul Campinas 22.9 43.1\n",
      "Raul ['Campinas', 22.9, 43.1]\n",
      "Raul ['Campinas', 22.9, 43.1]\n"
     ]
    }
   ],
   "source": [
    "### Talvez esta 'gambi' resolva -> Funcionou\n",
    "row = ('Raul', 'Campinas', 22.9, 43.1)\n",
    "\n",
    "name, city, lat, lon = row\n",
    "print(name, city, lat, lon)\n",
    "\n",
    "name, *_ = row\n",
    "print(name, _)\n",
    "\n",
    "# Atribuir a uma lista ou outra estrutura externa\n",
    "for name, *_ in [row]:\n",
    "    print(name, _)"
   ]
  },
  {
   "cell_type": "markdown",
   "metadata": {},
   "source": [
    "\n",
    "---\n",
    "\n",
    "\n",
    "## Códigos feitos seguindo fielmente a aula:"
   ]
  },
  {
   "cell_type": "code",
   "execution_count": 7,
   "metadata": {},
   "outputs": [
    {
     "name": "stdout",
     "output_type": "stream",
     "text": [
      "Henrique Niterói 22.9 43.1\n"
     ]
    }
   ],
   "source": [
    "row = 'Henrique', 'Niterói', 22.9, 43.1\n",
    "\n",
    "def f(t):\n",
    "    nome, cidade, lat, long = t[0], t[1], t[2], t[3]\n",
    "    print(nome, cidade, lat, long)\n",
    "    \n",
    "if __name__ == '__main__'    :\n",
    "    f(row)"
   ]
  },
  {
   "cell_type": "code",
   "execution_count": 8,
   "metadata": {},
   "outputs": [
    {
     "name": "stdout",
     "output_type": "stream",
     "text": [
      "Henrique Niterói 22.9 43.1\n"
     ]
    }
   ],
   "source": [
    "row = 'Henrique', 'Niterói', 22.9, 43.1\n",
    "\n",
    "def f(t):\n",
    "    nome, cidade, lat, long = t\n",
    "    print(nome, cidade, lat, long)\n",
    "    \n",
    "if __name__ == '__main__'    :\n",
    "    f(row)"
   ]
  },
  {
   "cell_type": "code",
   "execution_count": 9,
   "metadata": {},
   "outputs": [
    {
     "ename": "ValueError",
     "evalue": "too many values to unpack (expected 2)",
     "output_type": "error",
     "traceback": [
      "\u001b[0;31m---------------------------------------------------------------------------\u001b[0m",
      "\u001b[0;31mValueError\u001b[0m                                Traceback (most recent call last)",
      "\u001b[0;32m<ipython-input-9-8fab67754bd8>\u001b[0m in \u001b[0;36m<module>\u001b[0;34m\u001b[0m\n\u001b[1;32m      6\u001b[0m \u001b[0;34m\u001b[0m\u001b[0m\n\u001b[1;32m      7\u001b[0m \u001b[0;32mif\u001b[0m \u001b[0m__name__\u001b[0m \u001b[0;34m==\u001b[0m \u001b[0;34m'__main__'\u001b[0m    \u001b[0;34m:\u001b[0m\u001b[0;34m\u001b[0m\u001b[0;34m\u001b[0m\u001b[0m\n\u001b[0;32m----> 8\u001b[0;31m     \u001b[0mf\u001b[0m\u001b[0;34m(\u001b[0m\u001b[0mrow\u001b[0m\u001b[0;34m)\u001b[0m\u001b[0;34m\u001b[0m\u001b[0;34m\u001b[0m\u001b[0m\n\u001b[0m",
      "\u001b[0;32m<ipython-input-9-8fab67754bd8>\u001b[0m in \u001b[0;36mf\u001b[0;34m(t)\u001b[0m\n\u001b[1;32m      2\u001b[0m \u001b[0;34m\u001b[0m\u001b[0m\n\u001b[1;32m      3\u001b[0m \u001b[0;32mdef\u001b[0m \u001b[0mf\u001b[0m\u001b[0;34m(\u001b[0m\u001b[0mt\u001b[0m\u001b[0;34m)\u001b[0m\u001b[0;34m:\u001b[0m\u001b[0;34m\u001b[0m\u001b[0;34m\u001b[0m\u001b[0m\n\u001b[0;32m----> 4\u001b[0;31m     \u001b[0mnome\u001b[0m\u001b[0;34m,\u001b[0m \u001b[0mcidade\u001b[0m \u001b[0;34m=\u001b[0m \u001b[0mt\u001b[0m\u001b[0;34m\u001b[0m\u001b[0;34m\u001b[0m\u001b[0m\n\u001b[0m\u001b[1;32m      5\u001b[0m     \u001b[0mprint\u001b[0m\u001b[0;34m(\u001b[0m\u001b[0mnome\u001b[0m\u001b[0;34m,\u001b[0m \u001b[0mcidade\u001b[0m\u001b[0;34m)\u001b[0m\u001b[0;34m\u001b[0m\u001b[0;34m\u001b[0m\u001b[0m\n\u001b[1;32m      6\u001b[0m \u001b[0;34m\u001b[0m\u001b[0m\n",
      "\u001b[0;31mValueError\u001b[0m: too many values to unpack (expected 2)"
     ]
    }
   ],
   "source": [
    "row = 'Henrique', 'Niterói', 22.9, 43.1\n",
    "\n",
    "def f(t):\n",
    "    nome, cidade = t\n",
    "    print(nome, cidade)\n",
    "    \n",
    "if __name__ == '__main__'    :\n",
    "    f(row)"
   ]
  },
  {
   "cell_type": "code",
   "execution_count": 11,
   "metadata": {},
   "outputs": [
    {
     "name": "stdout",
     "output_type": "stream",
     "text": [
      "Henrique Niterói\n"
     ]
    }
   ],
   "source": [
    "row = 'Henrique', 'Niterói', 22.9, 43.1\n",
    "\n",
    "def f(t):\n",
    "    nome, cidade = t[0], t[1]\n",
    "    print(nome, cidade)\n",
    "    \n",
    "if __name__ == '__main__'    :\n",
    "    f(row)"
   ]
  },
  {
   "cell_type": "code",
   "execution_count": 12,
   "metadata": {},
   "outputs": [
    {
     "name": "stdout",
     "output_type": "stream",
     "text": [
      "Henrique Niterói\n"
     ]
    }
   ],
   "source": [
    "row = 'Henrique', 'Niterói', 22.9, 43.1\n",
    "\n",
    "def f(t):\n",
    "    nome, cidade = t[:2]\n",
    "    print(nome, cidade)\n",
    "    \n",
    "if __name__ == '__main__'    :\n",
    "    f(row)"
   ]
  },
  {
   "cell_type": "code",
   "execution_count": 14,
   "metadata": {},
   "outputs": [
    {
     "name": "stdout",
     "output_type": "stream",
     "text": [
      "Henrique 43.1\n"
     ]
    }
   ],
   "source": [
    "row = 'Henrique', 'Niterói', 22.9, 43.1\n",
    "\n",
    "def f(t):\n",
    "    nome, long = t[0], t[3]\n",
    "    print(nome, long)\n",
    "    \n",
    "if __name__ == '__main__'    :\n",
    "    f(row)"
   ]
  },
  {
   "cell_type": "code",
   "execution_count": 15,
   "metadata": {},
   "outputs": [
    {
     "name": "stdout",
     "output_type": "stream",
     "text": [
      "Henrique 43.1\n"
     ]
    }
   ],
   "source": [
    "row = 'Henrique', 'Niterói', 22.9, 43.1\n",
    "\n",
    "def f(t):\n",
    "    nome, long = t[0], t[-1]\n",
    "    print(nome, long)\n",
    "    \n",
    "if __name__ == '__main__'    :\n",
    "    f(row)"
   ]
  },
  {
   "cell_type": "code",
   "execution_count": 20,
   "metadata": {},
   "outputs": [
    {
     "name": "stdout",
     "output_type": "stream",
     "text": [
      "Henrique 43.1 22.9\n"
     ]
    }
   ],
   "source": [
    "# Underscore para nomes de variáveis que serão descartadas\n",
    "row = 'Henrique', 'Niterói', 22.9, 43.1\n",
    "\n",
    "def f(t):\n",
    "    nome, _, _, long = t\n",
    "    print(nome, long, _) # Underscore fica com a última atribuição\n",
    "    \n",
    "if __name__ == '__main__'    :\n",
    "    f(row)"
   ]
  },
  {
   "cell_type": "code",
   "execution_count": 22,
   "metadata": {},
   "outputs": [
    {
     "name": "stdout",
     "output_type": "stream",
     "text": [
      "Henrique 43.1 ['Niterói', 22.9]\n"
     ]
    }
   ],
   "source": [
    "# unpacking pegando o resto\n",
    "row = 'Henrique', 'Niterói', 22.9, 43.1\n",
    "\n",
    "def f(t):\n",
    "    nome, *_, long = t\n",
    "    print(nome, long, _)\n",
    "    \n",
    "if __name__ == '__main__'    :\n",
    "    f(row)"
   ]
  },
  {
   "cell_type": "code",
   "execution_count": 23,
   "metadata": {},
   "outputs": [
    {
     "name": "stdout",
     "output_type": "stream",
     "text": [
      "Henrique 43.1 ['Niterói', 22.9]\n"
     ]
    }
   ],
   "source": [
    "# unpacking pegando o resto\n",
    "row = 'Henrique', 'Niterói', 22.9, 43.1\n",
    "\n",
    "def f(t):\n",
    "    nome, *meio, long = t\n",
    "    print(nome, long, meio)\n",
    "    \n",
    "if __name__ == '__main__'    :\n",
    "    f(row)"
   ]
  },
  {
   "cell_type": "code",
   "execution_count": 24,
   "metadata": {},
   "outputs": [
    {
     "name": "stdout",
     "output_type": "stream",
     "text": [
      "22.9 43.1 ['Henrique', 'Niterói']\n"
     ]
    }
   ],
   "source": [
    "# unpacking pegando o resto\n",
    "row = 'Henrique', 'Niterói', 22.9, 43.1\n",
    "\n",
    "def f(t):\n",
    "    *_, lat, long = t\n",
    "    print(lat, long, _)\n",
    "    \n",
    "if __name__ == '__main__'    :\n",
    "    f(row)"
   ]
  },
  {
   "cell_type": "markdown",
   "metadata": {},
   "source": [
    "#### Table"
   ]
  },
  {
   "cell_type": "code",
   "execution_count": 28,
   "metadata": {},
   "outputs": [
    {
     "name": "stdout",
     "output_type": "stream",
     "text": [
      "Henrique Niterói 22.9 43.1\n",
      "Vinícius Santarém 22.4 54.7\n"
     ]
    }
   ],
   "source": [
    "# Table\n",
    "table = (('Henrique', 'Niterói', 22.9, 43.1),\n",
    "        ('Vinícius', 'Santarém', 22.4, 54.7))\n",
    "\n",
    "for row in table:\n",
    "    nome = row[0]\n",
    "    cidade = row[1]\n",
    "    lat = row[2]\n",
    "    long = row[3]\n",
    "    print(nome, cidade, lat, long)"
   ]
  },
  {
   "cell_type": "code",
   "execution_count": 29,
   "metadata": {},
   "outputs": [
    {
     "name": "stdout",
     "output_type": "stream",
     "text": [
      "Henrique Niterói 22.9 43.1\n",
      "Vinícius Santarém 22.4 54.7\n"
     ]
    }
   ],
   "source": [
    "# Table\n",
    "table = (('Henrique', 'Niterói', 22.9, 43.1),\n",
    "        ('Vinícius', 'Santarém', 22.4, 54.7))\n",
    "\n",
    "for row in table:\n",
    "    nome, cidade, lat, long = row\n",
    "    print(nome, cidade, lat, long)"
   ]
  },
  {
   "cell_type": "code",
   "execution_count": 31,
   "metadata": {},
   "outputs": [
    {
     "name": "stdout",
     "output_type": "stream",
     "text": [
      "Henrique Niterói 22.9 43.1\n",
      "Vinícius Santarém 22.4 54.7\n"
     ]
    }
   ],
   "source": [
    "# For ixpérto\n",
    "table = (('Henrique', 'Niterói', 22.9, 43.1),\n",
    "        ('Vinícius', 'Santarém', 22.4, 54.7))\n",
    "\n",
    "for nome, cidade, lat, long in table:\n",
    "    print(nome, cidade, lat, long)"
   ]
  },
  {
   "cell_type": "code",
   "execution_count": 32,
   "metadata": {},
   "outputs": [
    {
     "name": "stdout",
     "output_type": "stream",
     "text": [
      "Henrique ['Niterói', 22.9, 43.1]\n",
      "Vinícius ['Santarém', 22.4, 54.7]\n"
     ]
    }
   ],
   "source": [
    "table = (('Henrique', 'Niterói', 22.9, 43.1),\n",
    "        ('Vinícius', 'Santarém', 22.4, 54.7))\n",
    "\n",
    "for nome, *_ in table:\n",
    "    print(nome, _)"
   ]
  }
 ],
 "metadata": {
  "kernelspec": {
   "display_name": "Python 3",
   "language": "python",
   "name": "python3"
  },
  "language_info": {
   "codemirror_mode": {
    "name": "ipython",
    "version": 3
   },
   "file_extension": ".py",
   "mimetype": "text/x-python",
   "name": "python",
   "nbconvert_exporter": "python",
   "pygments_lexer": "ipython3",
   "version": "3.7.4"
  }
 },
 "nbformat": 4,
 "nbformat_minor": 2
}
